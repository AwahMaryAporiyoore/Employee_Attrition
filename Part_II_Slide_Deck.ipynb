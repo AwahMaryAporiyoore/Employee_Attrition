{
 "cells": [
  {
   "cell_type": "markdown",
   "id": "c6bf3626",
   "metadata": {
    "slideshow": {
     "slide_type": "slide"
    }
   },
   "source": [
    "# PART II - DATA EXPLANATORY ON EMPLOYEE ATTRITION \n",
    "\n",
    "## by Awah Mary Aporiyoore"
   ]
  },
  {
   "cell_type": "markdown",
   "id": "20b395c8",
   "metadata": {
    "slideshow": {
     "slide_type": "slide"
    }
   },
   "source": [
    "## Dataset Overview\n",
    "\n",
    "The chosen dataset for this project is the \"Employee Attrition\" dataset which was obtained from kaggle.com. \n",
    "\n",
    "This dataset includes information about employees within a specific department, their educational fields, their total working years, total working hours, attrition among others.\n",
    "\n",
    "The aim of this project is to identify the factors that causes employee attrition within a department."
   ]
  },
  {
   "cell_type": "markdown",
   "id": "5e86c102",
   "metadata": {
    "slideshow": {
     "slide_type": "slide"
    }
   },
   "source": [
    "## Investigation Overview\n",
    "\n",
    "The overall goal for this presentation is to showcase the possible causes of an Employee Attrition. \n",
    "\n",
    "The criteria for this is to analyse the data against the Attrition Count, Attrition Per Gender, Performance Rating, Job Involvement, Monthly Income and Relationship Satisfaction.\n",
    "\n",
    "In the end, the visualizations will highlight the following:\n",
    "\n",
    "Some probable causes of Employee Attrition is: Monthly Income, Performance Rating, Realationship Satisfaction, Distance from home and Job Involvement. \n",
    "\n",
    "It was quite suprising to find that Relationship Satisfaction was not one of the cause of employee Attrition.\n",
    "\n",
    "\n",
    "I am assuming that employees with low performance rating and job involvement could have been laid off."
   ]
  },
  {
   "cell_type": "markdown",
   "id": "b7cf8698",
   "metadata": {
    "slideshow": {
     "slide_type": "skip"
    }
   },
   "source": [
    "##### Importing python packages"
   ]
  },
  {
   "cell_type": "code",
   "execution_count": 2,
   "id": "761d9804",
   "metadata": {
    "slideshow": {
     "slide_type": "skip"
    }
   },
   "outputs": [],
   "source": [
    "import matplotlib.pyplot as plt\n",
    "import seaborn as sns\n",
    "import numpy as np\n",
    "import pandas as pd\n",
    "\n",
    "%matplotlib inline"
   ]
  },
  {
   "cell_type": "markdown",
   "id": "e1ca57f0",
   "metadata": {
    "slideshow": {
     "slide_type": "skip"
    }
   },
   "source": [
    "#### Loading in the dataset"
   ]
  },
  {
   "cell_type": "code",
   "execution_count": 5,
   "id": "87a17fb2",
   "metadata": {
    "slideshow": {
     "slide_type": "skip"
    }
   },
   "outputs": [
    {
     "data": {
      "text/html": [
       "<div>\n",
       "<style scoped>\n",
       "    .dataframe tbody tr th:only-of-type {\n",
       "        vertical-align: middle;\n",
       "    }\n",
       "\n",
       "    .dataframe tbody tr th {\n",
       "        vertical-align: top;\n",
       "    }\n",
       "\n",
       "    .dataframe thead th {\n",
       "        text-align: right;\n",
       "    }\n",
       "</style>\n",
       "<table border=\"1\" class=\"dataframe\">\n",
       "  <thead>\n",
       "    <tr style=\"text-align: right;\">\n",
       "      <th></th>\n",
       "      <th>Age</th>\n",
       "      <th>Attrition</th>\n",
       "      <th>BusinessTravel</th>\n",
       "      <th>DailyRate</th>\n",
       "      <th>Department</th>\n",
       "      <th>DistanceFromHome</th>\n",
       "      <th>Education</th>\n",
       "      <th>EducationField</th>\n",
       "      <th>EmployeeCount</th>\n",
       "      <th>EmployeeNumber</th>\n",
       "      <th>...</th>\n",
       "      <th>RelationshipSatisfaction</th>\n",
       "      <th>StandardHours</th>\n",
       "      <th>StockOptionLevel</th>\n",
       "      <th>TotalWorkingYears</th>\n",
       "      <th>TrainingTimesLastYear</th>\n",
       "      <th>WorkLifeBalance</th>\n",
       "      <th>YearsAtCompany</th>\n",
       "      <th>YearsInCurrentRole</th>\n",
       "      <th>YearsSinceLastPromotion</th>\n",
       "      <th>YearsWithCurrManager</th>\n",
       "    </tr>\n",
       "  </thead>\n",
       "  <tbody>\n",
       "    <tr>\n",
       "      <th>0</th>\n",
       "      <td>41</td>\n",
       "      <td>Yes</td>\n",
       "      <td>Travel_Rarely</td>\n",
       "      <td>1102</td>\n",
       "      <td>Sales</td>\n",
       "      <td>1</td>\n",
       "      <td>2</td>\n",
       "      <td>Life Sciences</td>\n",
       "      <td>1</td>\n",
       "      <td>1</td>\n",
       "      <td>...</td>\n",
       "      <td>1</td>\n",
       "      <td>80</td>\n",
       "      <td>0</td>\n",
       "      <td>8</td>\n",
       "      <td>0</td>\n",
       "      <td>1</td>\n",
       "      <td>6</td>\n",
       "      <td>4</td>\n",
       "      <td>0</td>\n",
       "      <td>5</td>\n",
       "    </tr>\n",
       "    <tr>\n",
       "      <th>1</th>\n",
       "      <td>49</td>\n",
       "      <td>No</td>\n",
       "      <td>Travel_Frequently</td>\n",
       "      <td>279</td>\n",
       "      <td>Research &amp; Development</td>\n",
       "      <td>8</td>\n",
       "      <td>1</td>\n",
       "      <td>Life Sciences</td>\n",
       "      <td>1</td>\n",
       "      <td>2</td>\n",
       "      <td>...</td>\n",
       "      <td>4</td>\n",
       "      <td>80</td>\n",
       "      <td>1</td>\n",
       "      <td>10</td>\n",
       "      <td>3</td>\n",
       "      <td>3</td>\n",
       "      <td>10</td>\n",
       "      <td>7</td>\n",
       "      <td>1</td>\n",
       "      <td>7</td>\n",
       "    </tr>\n",
       "    <tr>\n",
       "      <th>2</th>\n",
       "      <td>37</td>\n",
       "      <td>Yes</td>\n",
       "      <td>Travel_Rarely</td>\n",
       "      <td>1373</td>\n",
       "      <td>Research &amp; Development</td>\n",
       "      <td>2</td>\n",
       "      <td>2</td>\n",
       "      <td>Other</td>\n",
       "      <td>1</td>\n",
       "      <td>4</td>\n",
       "      <td>...</td>\n",
       "      <td>2</td>\n",
       "      <td>80</td>\n",
       "      <td>0</td>\n",
       "      <td>7</td>\n",
       "      <td>3</td>\n",
       "      <td>3</td>\n",
       "      <td>0</td>\n",
       "      <td>0</td>\n",
       "      <td>0</td>\n",
       "      <td>0</td>\n",
       "    </tr>\n",
       "    <tr>\n",
       "      <th>3</th>\n",
       "      <td>33</td>\n",
       "      <td>No</td>\n",
       "      <td>Travel_Frequently</td>\n",
       "      <td>1392</td>\n",
       "      <td>Research &amp; Development</td>\n",
       "      <td>3</td>\n",
       "      <td>4</td>\n",
       "      <td>Life Sciences</td>\n",
       "      <td>1</td>\n",
       "      <td>5</td>\n",
       "      <td>...</td>\n",
       "      <td>3</td>\n",
       "      <td>80</td>\n",
       "      <td>0</td>\n",
       "      <td>8</td>\n",
       "      <td>3</td>\n",
       "      <td>3</td>\n",
       "      <td>8</td>\n",
       "      <td>7</td>\n",
       "      <td>3</td>\n",
       "      <td>0</td>\n",
       "    </tr>\n",
       "    <tr>\n",
       "      <th>4</th>\n",
       "      <td>27</td>\n",
       "      <td>No</td>\n",
       "      <td>Travel_Rarely</td>\n",
       "      <td>591</td>\n",
       "      <td>Research &amp; Development</td>\n",
       "      <td>2</td>\n",
       "      <td>1</td>\n",
       "      <td>Medical</td>\n",
       "      <td>1</td>\n",
       "      <td>7</td>\n",
       "      <td>...</td>\n",
       "      <td>4</td>\n",
       "      <td>80</td>\n",
       "      <td>1</td>\n",
       "      <td>6</td>\n",
       "      <td>3</td>\n",
       "      <td>3</td>\n",
       "      <td>2</td>\n",
       "      <td>2</td>\n",
       "      <td>2</td>\n",
       "      <td>2</td>\n",
       "    </tr>\n",
       "  </tbody>\n",
       "</table>\n",
       "<p>5 rows × 35 columns</p>\n",
       "</div>"
      ],
      "text/plain": [
       "   Age Attrition     BusinessTravel  DailyRate              Department  \\\n",
       "0   41       Yes      Travel_Rarely       1102                   Sales   \n",
       "1   49        No  Travel_Frequently        279  Research & Development   \n",
       "2   37       Yes      Travel_Rarely       1373  Research & Development   \n",
       "3   33        No  Travel_Frequently       1392  Research & Development   \n",
       "4   27        No      Travel_Rarely        591  Research & Development   \n",
       "\n",
       "   DistanceFromHome  Education EducationField  EmployeeCount  EmployeeNumber  \\\n",
       "0                 1          2  Life Sciences              1               1   \n",
       "1                 8          1  Life Sciences              1               2   \n",
       "2                 2          2          Other              1               4   \n",
       "3                 3          4  Life Sciences              1               5   \n",
       "4                 2          1        Medical              1               7   \n",
       "\n",
       "   ...  RelationshipSatisfaction StandardHours  StockOptionLevel  \\\n",
       "0  ...                         1            80                 0   \n",
       "1  ...                         4            80                 1   \n",
       "2  ...                         2            80                 0   \n",
       "3  ...                         3            80                 0   \n",
       "4  ...                         4            80                 1   \n",
       "\n",
       "   TotalWorkingYears  TrainingTimesLastYear WorkLifeBalance  YearsAtCompany  \\\n",
       "0                  8                      0               1               6   \n",
       "1                 10                      3               3              10   \n",
       "2                  7                      3               3               0   \n",
       "3                  8                      3               3               8   \n",
       "4                  6                      3               3               2   \n",
       "\n",
       "  YearsInCurrentRole  YearsSinceLastPromotion  YearsWithCurrManager  \n",
       "0                  4                        0                     5  \n",
       "1                  7                        1                     7  \n",
       "2                  0                        0                     0  \n",
       "3                  7                        3                     0  \n",
       "4                  2                        2                     2  \n",
       "\n",
       "[5 rows x 35 columns]"
      ]
     },
     "execution_count": 5,
     "metadata": {},
     "output_type": "execute_result"
    }
   ],
   "source": [
    "#### Loading in the dataset\n",
    "Employee_Attrition = pd.read_csv('Dataset/Employee Attrition.csv')\n",
    "\n",
    "Employee_Attrition.head(5)"
   ]
  },
  {
   "cell_type": "code",
   "execution_count": 3,
   "id": "6dca33d2",
   "metadata": {
    "slideshow": {
     "slide_type": "skip"
    }
   },
   "outputs": [],
   "source": [
    "plt.rcParams[\"figure.figsize\"] = (8,6)"
   ]
  },
  {
   "cell_type": "markdown",
   "id": "af6367c4",
   "metadata": {
    "slideshow": {
     "slide_type": "slide"
    }
   },
   "source": [
    "### VISUALIZATION 1\n",
    "\n",
    "This first visualization seeks to identify the number of attrition within the dataset. \n"
   ]
  },
  {
   "cell_type": "code",
   "execution_count": 9,
   "id": "a45127c0",
   "metadata": {
    "slideshow": {
     "slide_type": "subslide"
    }
   },
   "outputs": [
    {
     "data": {
      "image/png": "[encoded data removed]",
      "text/plain": [
       "<Figure size 576x432 with 1 Axes>"
      ]
     },
     "metadata": {
      "needs_background": "light"
     },
     "output_type": "display_data"
    }
   ],
   "source": [
    "# Countplots for the Employee Attrition\n",
    "attrition_count = sns.countplot(data=Employee_Attrition, x ='Attrition', color='red');\n",
    "plt.title('Employee Attrition Count');\n",
    "plt.ylabel('Attrition Count');\n",
    "plt.xlabel('Employee Attrition Type');"
   ]
  },
  {
   "cell_type": "markdown",
   "id": "7b938955",
   "metadata": {
    "slideshow": {
     "slide_type": "subslide"
    }
   },
   "source": [
    "#### OBSERVATION\n",
    "Based on the visualization produced above, the attrition count for \"Yes\" is 237 while the attrition count for \"No\" is 1233.  Therefore, there is a low employee attrition.\n",
    "\n",
    "Thus bringing us to the next visualization"
   ]
  },
  {
   "cell_type": "code",
   "execution_count": 6,
   "id": "608cc2fd",
   "metadata": {
    "slideshow": {
     "slide_type": "notes"
    }
   },
   "outputs": [
    {
     "name": "stdout",
     "output_type": "stream",
     "text": [
      "Count for Yes is 237 and count for no is 1233\n"
     ]
    }
   ],
   "source": [
    "attrition_yes = Employee_Attrition['Attrition'] == 'Yes'\n",
    "\n",
    "attrition_no = Employee_Attrition['Attrition'] == 'No'\n",
    "\n",
    "print(f'Count for Yes is {attrition_yes.sum()} and count for no is {attrition_no.sum()}')"
   ]
  },
  {
   "cell_type": "markdown",
   "id": "d83ccaac",
   "metadata": {
    "slideshow": {
     "slide_type": "slide"
    }
   },
   "source": [
    "### VISUALIZATION 2\n",
    "\n",
    "#### Question: What is the Attrition Count Per Gender?\n",
    "\n"
   ]
  },
  {
   "cell_type": "code",
   "execution_count": 10,
   "id": "ded72a6b",
   "metadata": {
    "slideshow": {
     "slide_type": "subslide"
    }
   },
   "outputs": [
    {
     "data": {
      "image/png": "[encoded data removed]",
      "text/plain": [
       "<Figure size 576x432 with 1 Axes>"
      ]
     },
     "metadata": {
      "needs_background": "light"
     },
     "output_type": "display_data"
    }
   ],
   "source": [
    "gender_attriton = sns.barplot(x=attrition_yes, y=Employee_Attrition['Gender'], color='brown');\n",
    "plt.title('Attrition Per Gender')\n",
    "plt.ylabel('Gender');\n",
    "plt.xlabel('Attrition Count');"
   ]
  },
  {
   "cell_type": "markdown",
   "id": "ea0e23c7",
   "metadata": {
    "slideshow": {
     "slide_type": "subslide"
    }
   },
   "source": [
    "### OBSERVATION\n",
    "\n",
    "Based on the visualization depicted above, Males have a higher attrition as compared to females."
   ]
  },
  {
   "cell_type": "markdown",
   "id": "a1b2ccec",
   "metadata": {
    "slideshow": {
     "slide_type": "slide"
    }
   },
   "source": [
    "### VISUALIZATION 3\n",
    "\n",
    "This next visualization seeks to answer the question: 'Could their level of Job Involvement cause their attrition?'\n"
   ]
  },
  {
   "cell_type": "code",
   "execution_count": 11,
   "id": "c8834173",
   "metadata": {
    "slideshow": {
     "slide_type": "subslide"
    }
   },
   "outputs": [
    {
     "data": {
      "image/png": "[encoded data removed]",
      "text/plain": [
       "<Figure size 576x432 with 1 Axes>"
      ]
     },
     "metadata": {
      "needs_background": "light"
     },
     "output_type": "display_data"
    }
   ],
   "source": [
    "employee_involvement = sns.barplot(data=Employee_Attrition, x='Attrition', y='JobInvolvement');\n",
    "plt.title('Level of Job Involvement');\n",
    "plt.xlabel('Employee Attrition');\n",
    "plt.ylabel('Job Involvement');"
   ]
  },
  {
   "cell_type": "markdown",
   "id": "53c0e2ad",
   "metadata": {
    "slideshow": {
     "slide_type": "subslide"
    }
   },
   "source": [
    "### OBSERVATION\n",
    "\n",
    "The bar plot above confirms that Employees with Yes as their attrition have a lower Job Involvement."
   ]
  },
  {
   "cell_type": "markdown",
   "id": "a741d3f5",
   "metadata": {
    "slideshow": {
     "slide_type": "slide"
    }
   },
   "source": [
    "### VISUALIZATION 4\n",
    "\n",
    "This next visualization seeks to answer the question: 'Could their Performance Rating cause their attrition?'"
   ]
  },
  {
   "cell_type": "code",
   "execution_count": 8,
   "id": "e854cb30",
   "metadata": {
    "slideshow": {
     "slide_type": "subslide"
    }
   },
   "outputs": [
    {
     "data": {
      "image/png": "[encoded data removed]",
      "text/plain": [
       "<Figure size 576x432 with 1 Axes>"
      ]
     },
     "metadata": {
      "needs_background": "light"
     },
     "output_type": "display_data"
    }
   ],
   "source": [
    "performance_rating = sns.violinplot(data=Employee_Attrition, x='Attrition', y='PerformanceRating');\n",
    "plt.title('Performance Ratings based on Employee Attrition')\n",
    "plt.xlabel('Employee Attrition');\n",
    "plt.ylabel('Performance Rating');"
   ]
  },
  {
   "cell_type": "markdown",
   "id": "9591bb37",
   "metadata": {
    "slideshow": {
     "slide_type": "subslide"
    }
   },
   "source": [
    "### OBSERVATION\n",
    "\n",
    "The Violin plot Above confirms that Employees with Yes as their attrition have a lower Performance Rating."
   ]
  },
  {
   "cell_type": "markdown",
   "id": "4649a3b1",
   "metadata": {
    "slideshow": {
     "slide_type": "slide"
    }
   },
   "source": [
    "### VISUALIZATION 5\n",
    "\n",
    "This next visualization seeks to answer the question: 'Could their Income cause their attrition?'\n"
   ]
  },
  {
   "cell_type": "code",
   "execution_count": 12,
   "id": "d663b186",
   "metadata": {
    "slideshow": {
     "slide_type": "subslide"
    }
   },
   "outputs": [
    {
     "data": {
      "image/png": "[encoded data removed]",
      "text/plain": [
       "<Figure size 576x432 with 1 Axes>"
      ]
     },
     "metadata": {
      "needs_background": "light"
     },
     "output_type": "display_data"
    }
   ],
   "source": [
    "gender_income = sns.barplot(data=Employee_Attrition, x='Attrition', y='MonthlyIncome');\n",
    "plt.title('Income per Attrition')\n",
    "plt.xlabel('Employee Attrition');\n",
    "plt.ylabel('Monthly Income');"
   ]
  },
  {
   "cell_type": "markdown",
   "id": "cb4364c6",
   "metadata": {
    "slideshow": {
     "slide_type": "subslide"
    }
   },
   "source": [
    "### OBSERVATION\n",
    "\n",
    "The bar plot Above confirms that Employees with Yes as their attrition have a receives a lower Montly Income."
   ]
  },
  {
   "cell_type": "markdown",
   "id": "8f58459c",
   "metadata": {
    "slideshow": {
     "slide_type": "slide"
    }
   },
   "source": [
    "### VISUALIZATION 6\n",
    "\n",
    "This next visualization seeks to answer the question: 'Does the relationship satisfaction affects the attrition.'\n"
   ]
  },
  {
   "cell_type": "code",
   "execution_count": 17,
   "id": "9c340292",
   "metadata": {
    "slideshow": {
     "slide_type": "subslide"
    }
   },
   "outputs": [
    {
     "data": {
      "image/png": "[encoded data removed]",
      "text/plain": [
       "<Figure size 576x432 with 1 Axes>"
      ]
     },
     "metadata": {
      "needs_background": "light"
     },
     "output_type": "display_data"
    }
   ],
   "source": [
    "department_income = sns.barplot(data=Employee_Attrition, x='Attrition', y='RelationshipSatisfaction', hue='Department');\n",
    "plt.title('Income Per Department')\n",
    "plt.xlabel('Employee Attrition');\n",
    "plt.ylabel('Relationship Satisfaction');"
   ]
  },
  {
   "cell_type": "markdown",
   "id": "99f21af0",
   "metadata": {
    "slideshow": {
     "slide_type": "subslide"
    }
   },
   "source": [
    "### OBSERVATION\n",
    "The bar plot above confirms that Employees with Yes as their attrition has a higher Relationship Satisfaction."
   ]
  },
  {
   "cell_type": "markdown",
   "id": "f4fffef3",
   "metadata": {
    "slideshow": {
     "slide_type": "slide"
    }
   },
   "source": [
    "### VISUALIZATION 7\n",
    "\n",
    "A thought that popped up after knowing that employees with Yes as their attrition have a lower income and job satisfaction is;\n",
    "\n",
    "Could there be a correlation between the 2?"
   ]
  },
  {
   "cell_type": "code",
   "execution_count": 7,
   "id": "c918004c",
   "metadata": {
    "slideshow": {
     "slide_type": "subslide"
    }
   },
   "outputs": [
    {
     "data": {
      "image/png": "[encoded data removed]",
      "text/plain": [
       "<Figure size 576x432 with 1 Axes>"
      ]
     },
     "metadata": {
      "needs_background": "light"
     },
     "output_type": "display_data"
    }
   ],
   "source": [
    "sns.scatterplot(data=Employee_Attrition, x='JobSatisfaction', y='MonthlyIncome');\n",
    "plt.title('Correlation between Job Satisfaction and Monthly Income');\n",
    "plt.xlabel('Job Satisfaction');\n",
    "plt.ylabel('Monthly Income');"
   ]
  },
  {
   "cell_type": "markdown",
   "id": "0a5540c4",
   "metadata": {
    "slideshow": {
     "slide_type": "subslide"
    }
   },
   "source": [
    "### OBSERVATION\n",
    "\n",
    "Based on the plot above, there seem to be no linear relationship between the job satisfaction and monthly income"
   ]
  },
  {
   "cell_type": "markdown",
   "id": "0f6d5eee",
   "metadata": {
    "slideshow": {
     "slide_type": "slide"
    }
   },
   "source": [
    "### VISUALIZATION 8\n",
    "\n",
    "This final visualization to identify is the cause for employee attrition could be the distance from their home to work"
   ]
  },
  {
   "cell_type": "code",
   "execution_count": 14,
   "id": "6bf9bba6",
   "metadata": {
    "slideshow": {
     "slide_type": "skip"
    }
   },
   "outputs": [],
   "source": [
    "# Function for barplots\n",
    "\n",
    "def Barplot(xaxis, yaxis):\n",
    "    plot = sns.barplot(data=Employee_Attrition, x=xaxis, y=yaxis)"
   ]
  },
  {
   "cell_type": "code",
   "execution_count": 15,
   "id": "6f61facc",
   "metadata": {
    "slideshow": {
     "slide_type": "subslide"
    }
   },
   "outputs": [
    {
     "data": {
      "image/png": "[encoded data removed]",
      "text/plain": [
       "<Figure size 576x432 with 1 Axes>"
      ]
     },
     "metadata": {
      "needs_background": "light"
     },
     "output_type": "display_data"
    }
   ],
   "source": [
    "Barplot(xaxis='Attrition', yaxis='DistanceFromHome')\n",
    "plt.title('Attrition per Distance from Home');"
   ]
  },
  {
   "cell_type": "markdown",
   "id": "daa8c6b8",
   "metadata": {
    "slideshow": {
     "slide_type": "subslide"
    }
   },
   "source": [
    "### OBSERVATION\n",
    "\n",
    "Based on the plot above, employees with Yes as their attrition live farther from work"
   ]
  },
  {
   "cell_type": "markdown",
   "id": "007aff4e",
   "metadata": {
    "slideshow": {
     "slide_type": "slide"
    }
   },
   "source": [
    "## FINAL CONCLUSION AND SUMMARY FINDINGS\n",
    "\n",
    "Clearly from the visualizations produced, some major factors affecting employee attrition includes:\n",
    "\n",
    "1. Low Job Involvement\n",
    "\n",
    "2. Low Performance Ratings\n",
    "\n",
    "3. Low Monthly Income\n",
    "\n",
    "4. Low Relational Satisfaction and\n",
    "\n",
    "5. High Distance from Home"
   ]
  },
  {
   "cell_type": "markdown",
   "id": "a6eae497",
   "metadata": {
    "slideshow": {
     "slide_type": "slide"
    }
   },
   "source": [
    "# THANK YOU"
   ]
  },
  {
   "cell_type": "code",
   "execution_count": null,
   "id": "bf797953",
   "metadata": {},
   "outputs": [],
   "source": [
    "!jupyter nbconvert Part_II_Slide_Deck.ipynb --to slides --post serve --no-input --no-prompt"
   ]
  },
  {
   "cell_type": "code",
   "execution_count": null,
   "id": "67875730",
   "metadata": {},
   "outputs": [],
   "source": []
  }
 ],
 "metadata": {
  "celltoolbar": "Slideshow",
  "kernelspec": {
   "display_name": "Python 3 (ipykernel)",
   "language": "python",
   "name": "python3"
  },
  "language_info": {
   "codemirror_mode": {
    "name": "ipython",
    "version": 3
   },
   "file_extension": ".py",
   "mimetype": "text/x-python",
   "name": "python",
   "nbconvert_exporter": "python",
   "pygments_lexer": "ipython3",
   "version": "3.9.7"
  }
 },
 "nbformat": 4,
 "nbformat_minor": 5
}
